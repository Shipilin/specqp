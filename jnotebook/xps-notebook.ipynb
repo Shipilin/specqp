{
 "cells": [
  {
   "cell_type": "markdown",
   "metadata": {},
   "source": [
    "# Quick scripting for XPS-tool"
   ]
  },
  {
   "cell_type": "markdown",
   "metadata": {},
   "source": [
    "## Nanolab data (Al K-alpha radiation 1486.61 eV)"
   ]
  },
  {
   "cell_type": "code",
   "execution_count": 1,
   "metadata": {},
   "outputs": [],
   "source": [
    "import os\n",
    "import matplotlib.pyplot as plt"
   ]
  },
  {
   "cell_type": "code",
   "execution_count": 28,
   "metadata": {},
   "outputs": [],
   "source": [
    "# Constants\n",
    "exitation_energy = 1486.61"
   ]
  },
  {
   "cell_type": "code",
   "execution_count": 2,
   "metadata": {},
   "outputs": [],
   "source": [
    "# Full path to data files\n",
    "data_path = \"/Users/Shipilin/Documents/07_DataAnalysis/2018-RhFe_alloys/2018-November_Rh80Fe20/2018-11_Rh80Fe20_XPS/XY_RhFe/\"\n",
    "# Folders to add to the full path above \n",
    "data_folders = [\n",
    "    \"Rh80Fe20(111)\",\n",
    "    \"Rh80Fe20(111)_7_11\",\n",
    "    \"Rh80Fe20(111)_8_11\",\n",
    "    \"Rh80Fe20(111)_9_11\"\n",
    "]\n",
    "\n",
    "# List of all directories (combine the full path with specified folders)\n",
    "all_dirs = [\"\".join([data_path, data_folder]) for data_folder in data_folders]"
   ]
  },
  {
   "cell_type": "code",
   "execution_count": 21,
   "metadata": {},
   "outputs": [
    {
     "name": "stdout",
     "output_type": "stream",
     "text": [
      "all_dirs[0]: /Users/Shipilin/Documents/07_DataAnalysis/2018-RhFe_alloys/2018-November_Rh80Fe20/2018-11_Rh80Fe20_XPS/XY_RhFe/Rh80Fe20(111)\n",
      "---> files[0]: Rh80Fe20(111)_1.xy\n",
      "---> files[1]: Rh80Fe20(111)_2.xy\n",
      "---> files[2]: Rh80Fe20(111)_3.xy\n",
      "---> files[3]: Rh80Fe20(111)_4.xy\n",
      "---> files[4]: Rh80Fe20(111)_5.xy\n",
      "---> files[5]: Rh80Fe20(111)_6.xy\n",
      "---> files[6]: Rh80Fe20(111)_7.xy\n",
      "---> files[7]: Rh80Fe20(111)_8.xy\n",
      "---> files[8]: Rh80Fe20(111)_9.xy\n",
      "---> files[9]: Rh80Fe20(111)_10.xy\n",
      "---> files[10]: Rh80Fe20(111)_11.xy\n",
      "---> files[11]: Rh80Fe20(111)_12.xy\n",
      "---> files[12]: Rh80Fe20(111)_13.xy\n",
      "---> files[13]: Rh80Fe20(111)_14.xy\n",
      "---> files[14]: Rh80Fe20(111)_15.xy\n",
      "---> files[15]: Rh80Fe20(111)_16.xy\n",
      "---> files[16]: Rh80Fe20(111)_17.xy\n",
      "---> files[17]: Rh80Fe20(111)_18.xy\n",
      "---> files[18]: Rh80Fe20(111)_19.xy\n",
      "---> files[19]: Rh80Fe20(111)_20.xy\n",
      "---> files[20]: Rh80Fe20(111)_21.xy\n",
      "---> files[21]: Rh80Fe20(111)_22.xy\n",
      "---> files[22]: Rh80Fe20(111)_23.xy\n",
      "---> files[23]: Rh80Fe20(111)_24.xy\n",
      "---> files[24]: Rh80Fe20(111)_25.xy\n",
      "---> files[25]: Rh80Fe20(111)_26.xy\n",
      "---> files[26]: Rh80Fe20(111)_27.xy\n",
      "---> files[27]: Rh80Fe20(111)_28.xy\n",
      "---> files[28]: Rh80Fe20(111)_29.xy\n",
      "---> files[29]: Rh80Fe20(111)_30.xy\n",
      "---> files[30]: Rh80Fe20(111)_31.xy\n",
      "\n",
      "all_dirs[1]: /Users/Shipilin/Documents/07_DataAnalysis/2018-RhFe_alloys/2018-November_Rh80Fe20/2018-11_Rh80Fe20_XPS/XY_RhFe/Rh80Fe20(111)_7_11\n",
      "---> files[0]: Rh80Fe20(111)_1.xy\n",
      "---> files[1]: Rh80Fe20(111)_2.xy\n",
      "---> files[2]: Rh80Fe20(111)_3.xy\n",
      "---> files[3]: Rh80Fe20(111)_4.xy\n",
      "---> files[4]: Rh80Fe20(111)_5.xy\n",
      "---> files[5]: Rh80Fe20(111)_6.xy\n",
      "---> files[6]: Rh80Fe20(111)_7.xy\n",
      "---> files[7]: Rh80Fe20(111)_8.xy\n",
      "---> files[8]: Rh80Fe20(111)_9.xy\n",
      "---> files[9]: Rh80Fe20(111)_10.xy\n",
      "---> files[10]: Rh80Fe20(111)_11.xy\n",
      "---> files[11]: Rh80Fe20(111)_12.xy\n",
      "---> files[12]: Rh80Fe20(111)_13.xy\n",
      "---> files[13]: Rh80Fe20(111)_14.xy\n",
      "---> files[14]: Rh80Fe20(111)_15.xy\n",
      "---> files[15]: Rh80Fe20(111)_16.xy\n",
      "---> files[16]: Rh80Fe20(111)_17.xy\n",
      "---> files[17]: Rh80Fe20(111)_18.xy\n",
      "---> files[18]: Rh80Fe20(111)_19.xy\n",
      "---> files[19]: Rh80Fe20(111)_20.xy\n",
      "---> files[20]: Rh80Fe20(111)_21.xy\n",
      "---> files[21]: Rh80Fe20(111)_22.xy\n",
      "---> files[22]: Rh80Fe20(111)_23.xy\n",
      "---> files[23]: Rh80Fe20(111)_24.xy\n",
      "---> files[24]: Rh80Fe20(111)_25.xy\n",
      "---> files[25]: Rh80Fe20(111)_26.xy\n",
      "---> files[26]: Rh80Fe20(111)_27.xy\n",
      "---> files[27]: Rh80Fe20(111)_28.xy\n",
      "---> files[28]: Rh80Fe20(111)_29.xy\n",
      "---> files[29]: Rh80Fe20(111)_30.xy\n",
      "---> files[30]: Rh80Fe20(111)_31.xy\n",
      "\n",
      "all_dirs[2]: /Users/Shipilin/Documents/07_DataAnalysis/2018-RhFe_alloys/2018-November_Rh80Fe20/2018-11_Rh80Fe20_XPS/XY_RhFe/Rh80Fe20(111)_8_11\n",
      "---> files[0]: Rh80Fe20(111)_1.xy\n",
      "---> files[1]: Rh80Fe20(111)_2.xy\n",
      "---> files[2]: Rh80Fe20(111)_3.xy\n",
      "---> files[3]: Rh80Fe20(111)_4.xy\n",
      "---> files[4]: Rh80Fe20(111)_5.xy\n",
      "---> files[5]: Rh80Fe20(111)_6.xy\n",
      "---> files[6]: Rh80Fe20(111)_7.xy\n",
      "---> files[7]: Rh80Fe20(111)_8.xy\n",
      "---> files[8]: Rh80Fe20(111)_9.xy\n",
      "---> files[9]: Rh80Fe20(111)_10.xy\n",
      "---> files[10]: Rh80Fe20(111)_11.xy\n",
      "---> files[11]: Rh80Fe20(111)_12.xy\n",
      "---> files[12]: Rh80Fe20(111)_13.xy\n",
      "---> files[13]: Rh80Fe20(111)_14.xy\n",
      "---> files[14]: Rh80Fe20(111)_15.xy\n",
      "---> files[15]: Rh80Fe20(111)_16.xy\n",
      "---> files[16]: Rh80Fe20(111)_17.xy\n",
      "---> files[17]: Rh80Fe20(111)_18.xy\n",
      "---> files[18]: Rh80Fe20(111)_19.xy\n",
      "---> files[19]: Rh80Fe20(111)_20.xy\n",
      "---> files[20]: Rh80Fe20(111)_21.xy\n",
      "---> files[21]: Rh80Fe20(111)_22.xy\n",
      "---> files[22]: Rh80Fe20(111)_23.xy\n",
      "---> files[23]: Rh80Fe20(111)_24.xy\n",
      "---> files[24]: Rh80Fe20(111)_25.xy\n",
      "---> files[25]: Rh80Fe20(111)_26.xy\n",
      "---> files[26]: Rh80Fe20(111)_27.xy\n",
      "---> files[27]: Rh80Fe20(111)_28.xy\n",
      "---> files[28]: Rh80Fe20(111)_29.xy\n",
      "---> files[29]: Rh80Fe20(111)_30.xy\n",
      "---> files[30]: Rh80Fe20(111)_31.xy\n",
      "\n",
      "all_dirs[3]: /Users/Shipilin/Documents/07_DataAnalysis/2018-RhFe_alloys/2018-November_Rh80Fe20/2018-11_Rh80Fe20_XPS/XY_RhFe/Rh80Fe20(111)_9_11\n",
      "---> files[0]: Rh80Fe20(111)_1.xy\n",
      "---> files[1]: Rh80Fe20(111)_2.xy\n",
      "---> files[2]: Rh80Fe20(111)_3.xy\n",
      "---> files[3]: Rh80Fe20(111)_4.xy\n",
      "---> files[4]: Rh80Fe20(111)_5.xy\n",
      "---> files[5]: Rh80Fe20(111)_6.xy\n",
      "---> files[6]: Rh80Fe20(111)_7.xy\n",
      "---> files[7]: Rh80Fe20(111)_8.xy\n",
      "---> files[8]: Rh80Fe20(111)_9.xy\n",
      "---> files[9]: Rh80Fe20(111)_10.xy\n",
      "---> files[10]: Rh80Fe20(111)_11.xy\n",
      "---> files[11]: Rh80Fe20(111)_12.xy\n",
      "---> files[12]: Rh80Fe20(111)_13.xy\n",
      "---> files[13]: Rh80Fe20(111)_14.xy\n",
      "---> files[14]: Rh80Fe20(111)_15.xy\n",
      "---> files[15]: Rh80Fe20(111)_16.xy\n",
      "---> files[16]: Rh80Fe20(111)_17.xy\n",
      "---> files[17]: Rh80Fe20(111)_18.xy\n",
      "---> files[18]: Rh80Fe20(111)_19.xy\n",
      "---> files[19]: Rh80Fe20(111)_20.xy\n",
      "---> files[20]: Rh80Fe20(111)_21.xy\n",
      "---> files[21]: Rh80Fe20(111)_22.xy\n",
      "---> files[22]: Rh80Fe20(111)_23.xy\n",
      "---> files[23]: Rh80Fe20(111)_24.xy\n",
      "---> files[24]: Rh80Fe20(111)_25.xy\n",
      "---> files[25]: Rh80Fe20(111)_26.xy\n",
      "---> files[26]: Rh80Fe20(111)_27.xy\n",
      "---> files[27]: Rh80Fe20(111)_28.xy\n",
      "---> files[28]: Rh80Fe20(111)_29.xy\n",
      "---> files[29]: Rh80Fe20(111)_30.xy\n",
      "---> files[30]: Rh80Fe20(111)_31.xy\n"
     ]
    }
   ],
   "source": [
    "# Iterating through directories displaying existing files\n",
    "files = []\n",
    "for i, dirname in enumerate(sorted(all_dirs)):\n",
    "    if i > 0: # Just to make it prettier (no empty line before the first output)\n",
    "        print() # Otherwise, add an empty line to separate outputs\n",
    "    print(f\"all_dirs[{i}]: {dirname}\")\n",
    "    # Lambda function below allows for sorting the filneames according to _1, _2, ... ending\n",
    "    for i, filename in enumerate(sorted(os.listdir(all_dirs[0]), key=lambda x:int(x.split(\"_\")[1].split(\".\")[0]))):\n",
    "        files.append(filename)\n",
    "        print(f\"---> files[{i}]: {filename}\")"
   ]
  },
  {
   "cell_type": "code",
   "execution_count": 38,
   "metadata": {},
   "outputs": [
    {
     "data": {
      "image/png": "[encoded data removed]",
      "text/plain": [
       "<Figure size 432x288 with 1 Axes>"
      ]
     },
     "metadata": {
      "needs_background": "light"
     },
     "output_type": "display_data"
    }
   ],
   "source": [
    "# Plot certain file(s)\n",
    "with open(\"/\".join([all_dirs[0], files[5]])) as f:\n",
    "    lines = f.read().splitlines()\n",
    "    \n",
    "energy, counts = [], []\n",
    "for line in lines:\n",
    "    if (line.strip().startswith('#')) or not line:\n",
    "        continue # Scip comment and empty lines\n",
    "    else:\n",
    "        xy = line.split()\n",
    "        x = float(xy[0].strip())\n",
    "        y = float(xy[1].strip())\n",
    "        if y > 0:\n",
    "            energy.append(x)\n",
    "            counts.append(y)\n",
    "\n",
    "binding_energy = [exitation_energy - value for value in energy]\n",
    "plt.plot(binding_energy, counts)\n",
    "plt.gca().invert_xaxis()"
   ]
  },
  {
   "cell_type": "code",
   "execution_count": 36,
   "metadata": {},
   "outputs": [
    {
     "ename": "AttributeError",
     "evalue": "module 'matplotlib.pyplot' has no attribute 'xaxis'",
     "output_type": "error",
     "traceback": [
      "\u001b[0;31m---------------------------------------------------------------------------\u001b[0m",
      "\u001b[0;31mAttributeError\u001b[0m                            Traceback (most recent call last)",
      "\u001b[0;32m<ipython-input-36-6e20b67584e9>\u001b[0m in \u001b[0;36m<module>\u001b[0;34m\u001b[0m\n\u001b[0;32m----> 1\u001b[0;31m \u001b[0mdir\u001b[0m\u001b[0;34m(\u001b[0m\u001b[0mplt\u001b[0m\u001b[0;34m.\u001b[0m\u001b[0mxaxis\u001b[0m\u001b[0;34m)\u001b[0m\u001b[0;34m\u001b[0m\u001b[0;34m\u001b[0m\u001b[0m\n\u001b[0m",
      "\u001b[0;31mAttributeError\u001b[0m: module 'matplotlib.pyplot' has no attribute 'xaxis'"
     ]
    }
   ],
   "source": [
    "dir(plt.xaxis)"
   ]
  },
  {
   "cell_type": "code",
   "execution_count": null,
   "metadata": {},
   "outputs": [],
   "source": []
  }
 ],
 "metadata": {
  "kernelspec": {
   "display_name": "Python 3",
   "language": "python",
   "name": "python3"
  },
  "language_info": {
   "codemirror_mode": {
    "name": "ipython",
    "version": 3
   },
   "file_extension": ".py",
   "mimetype": "text/x-python",
   "name": "python",
   "nbconvert_exporter": "python",
   "pygments_lexer": "ipython3",
   "version": "3.6.8"
  }
 },
 "nbformat": 4,
 "nbformat_minor": 1
}
